{
 "cells": [
  {
   "cell_type": "markdown",
   "metadata": {},
   "source": [
    "# Convolution用法"
   ]
  },
  {
   "cell_type": "code",
   "execution_count": 5,
   "metadata": {},
   "outputs": [
    {
     "data": {
      "text/plain": [
       "28"
      ]
     },
     "execution_count": 5,
     "metadata": {},
     "output_type": "execute_result"
    }
   ],
   "source": [
    "threshold_image.shape[1]"
   ]
  },
  {
   "cell_type": "code",
   "execution_count": 3,
   "metadata": {},
   "outputs": [
    {
     "name": "stdout",
     "output_type": "stream",
     "text": [
      "Tensor(\"Reshape_3:0\", shape=(3, 3, 1, 1), dtype=float32)\n"
     ]
    }
   ],
   "source": [
    "raw_image= cv2.imread('test_img.jpg',0)\n",
    "_, threshold_image = cv2.threshold(raw_image, 0, 255,  cv2.THRESH_OTSU)\n",
    "\n",
    "threshold_image= threshold_image.astype('float32')\n",
    "\n",
    "x_img = tf.reshape(tf.threshold_image, [-1, threshold_image[0], threshold_image.shape[1,1]])"
   ]
  },
  {
   "cell_type": "code",
   "execution_count": 10,
   "metadata": {},
   "outputs": [
    {
     "name": "stdout",
     "output_type": "stream",
     "text": [
      "Tensor(\"Reshape_11:0\", shape=(3, 3, 1, 1), dtype=float32)\n"
     ]
    },
    {
     "data": {
      "image/png": "[encoded data removed]",
      "text/plain": [
       "<Figure size 432x288 with 1 Axes>"
      ]
     },
     "metadata": {
      "needs_background": "light"
     },
     "output_type": "display_data"
    },
    {
     "data": {
      "image/png": "[encoded data removed]",
      "text/plain": [
       "<Figure size 432x288 with 1 Axes>"
      ]
     },
     "metadata": {
      "needs_background": "light"
     },
     "output_type": "display_data"
    }
   ],
   "source": [
    "%matplotlib inline\n",
    "import cv2\n",
    "import numpy as np\n",
    "import tensorflow as tf\n",
    "import matplotlib.pyplot as plt\n",
    "\n",
    "temp = np.array([ [-1, -1, -1],\n",
    "                  [-1,  8, -1],\n",
    "                  [-1, -1, -1] ], dtype='float32')\n",
    "\n",
    "# change kernel to 4D tensor\n",
    "kernel = tf.reshape(tf.Variable(temp), [3, 3, 1, 1])   # 濾波器, 3 x 3 x 1(Kernel) , 1 張(因此此為黑白, 所以為1)\n",
    "print(kernel) \n",
    "\n",
    "raw_image = cv2.imread('test_img.jpg', 0)   #讀為灰階圖像\n",
    "_, threshold_image = cv2.threshold(raw_image, 0, 255, cv2.THRESH_OTSU)  # 黑白照片, 以0當threshold, 值>0,當255\n",
    "\n",
    "threshold_image= threshold_image.astype('float32')\n",
    "\n",
    "# change image to 4D tensor\n",
    "x_img = tf.reshape(threshold_image, [-1, threshold_image.shape[0], threshold_image.shape[1], 1])   \n",
    "                                    #-1地方為批次大小, 但此處我們沒有批次, 所以給-1，函式會當成1\n",
    "    \n",
    "y_conv = tf.nn.conv2d(x_img, kernel, strides=[1, 1, 1, 1], padding='SAME')  \n",
    "# conv2d(輸入的照片(但為4D tensor),濾波器(4D tensor),每一維的步數 第2個1, 是X步長, 第3個1是y步長1,第1跟最後不會用到, 但沒解釋 \n",
    "with tf.Session() as sess:\n",
    "    sess.run( tf.global_variables_initializer() )\n",
    "    result = sess.run(y_conv)\n",
    "    \n",
    "    result_img = np.reshape(result, [threshold_image.shape[0], threshold_image.shape[1]])\n",
    "    #因為要畫出來所以要還原為3D\n",
    "    plt.imshow(threshold_image, cmap='gray')\n",
    "    plt.show()\n",
    "    \n",
    "    plt.imshow(result_img, cmap='gray')\n",
    "    plt.show()"
   ]
  },
  {
   "cell_type": "markdown",
   "metadata": {},
   "source": [
    "# Maxpooling用法 "
   ]
  },
  {
   "cell_type": "code",
   "execution_count": 11,
   "metadata": {},
   "outputs": [
    {
     "data": {
      "image/png": "[encoded data removed]",
      "text/plain": [
       "<Figure size 432x288 with 1 Axes>"
      ]
     },
     "metadata": {
      "needs_background": "light"
     },
     "output_type": "display_data"
    },
    {
     "data": {
      "image/png": "[encoded data removed]",
      "text/plain": [
       "<Figure size 432x288 with 1 Axes>"
      ]
     },
     "metadata": {
      "needs_background": "light"
     },
     "output_type": "display_data"
    }
   ],
   "source": [
    "%matplotlib inline\n",
    "import cv2\n",
    "import numpy as np\n",
    "import tensorflow as tf\n",
    "import matplotlib.pyplot as plt\n",
    "\n",
    "\n",
    "raw_image = cv2.imread('test_img.jpg', 0)\n",
    "_, threshold_image = cv2.threshold(raw_image, 0, 255, cv2.THRESH_OTSU)\n",
    "\n",
    "threshold_image= threshold_image.astype('float32')\n",
    "\n",
    "# change image to 4D tensor\n",
    "x_img = tf.reshape(threshold_image, [-1, threshold_image.shape[0], threshold_image.shape[1], 1])\n",
    "\n",
    "# ksize = [1, width, height, 1]\n",
    "# strides = [1, horizontal strides, vertical strides, 1] [2,2] in this code\n",
    "y_maxpool = tf.nn.max_pool(x_img, ksize=[1, 2, 2, 1], strides=[1, 2, 2, 1], padding='SAME')  \n",
    "                                #Kernel濾波器大小為2*2, strides這邊步長設為2\n",
    "with tf.Session() as sess:\n",
    "    sess.run( tf.global_variables_initializer() )\n",
    "    result = sess.run(y_maxpool)\n",
    "    \n",
    "    result_img = np.reshape(result, [14, 14])   \n",
    "    \n",
    "    plt.imshow(threshold_image, cmap='gray')\n",
    "    plt.show()\n",
    "    \n",
    "    plt.imshow(result_img, cmap='gray')\n",
    "    plt.show()"
   ]
  },
  {
   "cell_type": "markdown",
   "metadata": {},
   "source": [
    "# 建構CNN神經網路"
   ]
  },
  {
   "cell_type": "code",
   "execution_count": 12,
   "metadata": {},
   "outputs": [
    {
     "name": "stdout",
     "output_type": "stream",
     "text": [
      "WARNING:tensorflow:From <ipython-input-12-898798c07333>:4: read_data_sets (from tensorflow.contrib.learn.python.learn.datasets.mnist) is deprecated and will be removed in a future version.\n",
      "Instructions for updating:\n",
      "Please use alternatives such as official/mnist/dataset.py from tensorflow/models.\n",
      "WARNING:tensorflow:From C:\\Users\\shang\\.conda\\envs\\DL\\lib\\site-packages\\tensorflow_core\\contrib\\learn\\python\\learn\\datasets\\mnist.py:260: maybe_download (from tensorflow.contrib.learn.python.learn.datasets.base) is deprecated and will be removed in a future version.\n",
      "Instructions for updating:\n",
      "Please write your own downloading logic.\n",
      "WARNING:tensorflow:From C:\\Users\\shang\\.conda\\envs\\DL\\lib\\site-packages\\tensorflow_core\\contrib\\learn\\python\\learn\\datasets\\mnist.py:262: extract_images (from tensorflow.contrib.learn.python.learn.datasets.mnist) is deprecated and will be removed in a future version.\n",
      "Instructions for updating:\n",
      "Please use tf.data to implement this functionality.\n",
      "Extracting MNIST_data/train-images-idx3-ubyte.gz\n",
      "WARNING:tensorflow:From C:\\Users\\shang\\.conda\\envs\\DL\\lib\\site-packages\\tensorflow_core\\contrib\\learn\\python\\learn\\datasets\\mnist.py:267: extract_labels (from tensorflow.contrib.learn.python.learn.datasets.mnist) is deprecated and will be removed in a future version.\n",
      "Instructions for updating:\n",
      "Please use tf.data to implement this functionality.\n",
      "Extracting MNIST_data/train-labels-idx1-ubyte.gz\n",
      "WARNING:tensorflow:From C:\\Users\\shang\\.conda\\envs\\DL\\lib\\site-packages\\tensorflow_core\\contrib\\learn\\python\\learn\\datasets\\mnist.py:110: dense_to_one_hot (from tensorflow.contrib.learn.python.learn.datasets.mnist) is deprecated and will be removed in a future version.\n",
      "Instructions for updating:\n",
      "Please use tf.one_hot on tensors.\n",
      "Extracting MNIST_data/t10k-images-idx3-ubyte.gz\n",
      "Extracting MNIST_data/t10k-labels-idx1-ubyte.gz\n",
      "WARNING:tensorflow:From C:\\Users\\shang\\.conda\\envs\\DL\\lib\\site-packages\\tensorflow_core\\contrib\\learn\\python\\learn\\datasets\\mnist.py:290: DataSet.__init__ (from tensorflow.contrib.learn.python.learn.datasets.mnist) is deprecated and will be removed in a future version.\n",
      "Instructions for updating:\n",
      "Please use alternatives such as official/mnist/dataset.py from tensorflow/models.\n",
      "WARNING:tensorflow:From <ipython-input-12-898798c07333>:49: calling dropout (from tensorflow.python.ops.nn_ops) with keep_prob is deprecated and will be removed in a future version.\n",
      "Instructions for updating:\n",
      "Please use `rate` instead of `keep_prob`. Rate should be set to `rate = 1 - keep_prob`.\n",
      "WARNING:tensorflow:From <ipython-input-12-898798c07333>:57: softmax_cross_entropy_with_logits (from tensorflow.python.ops.nn_ops) is deprecated and will be removed in a future version.\n",
      "Instructions for updating:\n",
      "\n",
      "Future major versions of TensorFlow will allow gradients to flow\n",
      "into the labels input on backprop by default.\n",
      "\n",
      "See `tf.nn.softmax_cross_entropy_with_logits_v2`.\n",
      "\n",
      "step 0, training accuracy 0.10000000149011612\n",
      "step 100, training accuracy 0.7099999785423279\n",
      "step 200, training accuracy 0.8199999928474426\n",
      "step 300, training accuracy 0.8100000023841858\n",
      "step 400, training accuracy 0.8999999761581421\n",
      "step 500, training accuracy 0.8999999761581421\n",
      "step 600, training accuracy 0.9599999785423279\n",
      "step 700, training accuracy 0.949999988079071\n",
      "step 800, training accuracy 0.949999988079071\n",
      "step 900, training accuracy 0.949999988079071\n",
      "test accuracy 0.9697999954223633\n"
     ]
    }
   ],
   "source": [
    "import tensorflow as tf\n",
    "from tensorflow.examples.tutorials.mnist import input_data\n",
    "\n",
    "mnist = input_data.read_data_sets(\"MNIST_data/\", one_hot=True)\n",
    "\n",
    "def weight_variable(shape):  # 初始化 W\n",
    "    initial_value = tf.truncated_normal(shape, stddev=0.1)\n",
    "    return tf.Variable(initial_value)\n",
    "\n",
    "def bias_variable(shape):    # 初始化 b\n",
    "    initial_value = tf.constant(0.1, shape=shape)\n",
    "    return tf.Variable(initial_value)\n",
    "\n",
    "def conv2d(x, W):   #x為照片, W 為濾波器, Kernel, 一定要為4D tensor\n",
    "    # strides = [1, horizontal strides, vertical strides, 1], padding = SAME mean add paddings on input data\n",
    "    return tf.nn.conv2d(x, W, strides=[1, 1, 1, 1], padding='SAME')\n",
    "\n",
    "def max_pool_2x2(x):\n",
    "    # ksize = [1, width, height, 1]\n",
    "    # strides = [1, horizontal strides, vertical strides, 1]\n",
    "    return tf.nn.max_pool(x, ksize=[1, 2, 2, 1], strides=[1, 2, 2, 1], padding='SAME')\n",
    "\n",
    "W_conv1 = weight_variable([5, 5, 1, 32])      # 此處將kernel設為5*5 1為黑白, 32 張照片\n",
    "b_conv1 = bias_variable([32])\n",
    "\n",
    "x = tf.placeholder(tf.float32, [None, 784])\n",
    "y_ = tf.placeholder(tf.float32, [None, 10])\n",
    "\n",
    "# Reshape our data as 4-D tensorflow. Remind that a batch of images is a 4-D tensor\n",
    "x_image = tf.reshape(x, [-1, 28, 28, 1]) #  -1為批次因只有一張圖, 讓程式先忽略, 因CNN不須要將照片拉平, 所以於此處還原照片\n",
    "h_conv1 = tf.nn.relu(conv2d(x_image, W_conv1) + b_conv1)  #己經用卷積+激活函數\n",
    "h_pool1 = max_pool_2x2(h_conv1)\n",
    "\n",
    "\n",
    "W_conv2 = weight_variable([5, 5, 32, 64])    #32 於此不能變動, 其餘可變, 5,5 為濾波器大小,掌管權重,64 可更動\n",
    "b_conv2 = bias_variable([64])\n",
    "\n",
    "h_conv2 = tf.nn.relu(conv2d(h_pool1, W_conv2) + b_conv2)\n",
    "h_pool2 = max_pool_2x2(h_conv2)\n",
    "\n",
    "W_fc1 = weight_variable([7 * 7 * 64, 1024])  \n",
    "b_fc1 = bias_variable([1024])\n",
    "\n",
    "# Flatten previous layer result and feed them into fully connected layer  此處開始為DNN, 所以拉成一維向量\n",
    "h_pool2_flat = tf.reshape(h_pool2, [-1, 7*7*64])\n",
    "h_fc1 = tf.nn.relu(tf.matmul(h_pool2_flat, W_fc1) + b_fc1)\n",
    "\n",
    "keep_prob = tf.placeholder(tf.float32)\n",
    "h_fc1_drop = tf.nn.dropout(h_fc1, keep_prob)\n",
    "\n",
    "W_fc2 = weight_variable([1024, 10])\n",
    "b_fc2 = bias_variable([10])\n",
    "\n",
    "y_conv = tf.matmul(h_fc1_drop, W_fc2) + b_fc2\n",
    "\n",
    "# Define cost\n",
    "cross_entropy = tf.reduce_mean(tf.nn.softmax_cross_entropy_with_logits(labels=y_, logits=y_conv))\n",
    "\n",
    "# Optimization \n",
    "train_step = tf.train.AdamOptimizer(1e-4).minimize(cross_entropy)\n",
    "\n",
    "# Calculate accuracy \n",
    "correct_prediction = tf.equal(tf.argmax(y_conv, 1), tf.argmax(y_, 1))\n",
    "accuracy = tf.reduce_mean(tf.cast(correct_prediction, tf.float32))\n",
    "\n",
    "with tf.Session() as sess:\n",
    "    sess.run(tf.global_variables_initializer())\n",
    "    for i in range(1000):\n",
    "        batch = mnist.train.next_batch(100)\n",
    "        \n",
    "        train_step_ = sess.run(train_step, feed_dict={x: batch[0], y_: batch[1], keep_prob: 0.5})\n",
    "        if i % 100 == 0:\n",
    "            train_accuracy = sess.run(accuracy, feed_dict={x: batch[0], y_: batch[1], keep_prob: 0.5})\n",
    "            print('step {}, training accuracy {}'.format(i, train_accuracy))\n",
    "            \n",
    "    test_accuracy_ = sess.run(accuracy, feed_dict={x: mnist.test.images, y_: mnist.test.labels, keep_prob: 1.0})    \n",
    "    print('test accuracy {}'.format(test_accuracy_))"
   ]
  },
  {
   "cell_type": "code",
   "execution_count": null,
   "metadata": {},
   "outputs": [],
   "source": []
  }
 ],
 "metadata": {
  "kernelspec": {
   "display_name": "Python 3",
   "language": "python",
   "name": "python3"
  },
  "language_info": {
   "codemirror_mode": {
    "name": "ipython",
    "version": 3
   },
   "file_extension": ".py",
   "mimetype": "text/x-python",
   "name": "python",
   "nbconvert_exporter": "python",
   "pygments_lexer": "ipython3",
   "version": "3.7.9"
  }
 },
 "nbformat": 4,
 "nbformat_minor": 4
}
