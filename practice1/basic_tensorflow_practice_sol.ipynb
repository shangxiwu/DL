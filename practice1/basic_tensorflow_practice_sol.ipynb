{
 "cells": [
  {
   "cell_type": "markdown",
   "metadata": {},
   "source": [
    "# Calculate two matrix multiplication"
   ]
  },
  {
   "cell_type": "code",
   "execution_count": 2,
   "metadata": {},
   "outputs": [
    {
     "name": "stdout",
     "output_type": "stream",
     "text": [
      "matrix multiplication: [[-29.699999  14.599999]\n",
      " [ 36.       -20.      ]]\n",
      "\n"
     ]
    }
   ],
   "source": [
    "import tensorflow as tf\n",
    "\n",
    "matrix1 = tf.constant([[-1, 2.1],[1, -3]], name='matrix1', dtype=tf.float32)\n",
    "matrix2 = tf.constant([[15, -2],[-7, 6]], name='matrix2', dtype=tf.float32)\n",
    "\n",
    "result = tf.matmul(matrix1, matrix2)\n",
    "\n",
    "with tf.Session() as sess: \n",
    "    print(\"matrix multiplication: {}\\n\".format(sess.run(result)))\n"
   ]
  },
  {
   "cell_type": "markdown",
   "metadata": {},
   "source": [
    "# Calculate two matrix element-wise multiplication"
   ]
  },
  {
   "cell_type": "code",
   "execution_count": 4,
   "metadata": {},
   "outputs": [
    {
     "name": "stdout",
     "output_type": "stream",
     "text": [
      "matrix element-wise multiplication: [[-15.   -4.2]\n",
      " [ -7.  -18. ]]\n",
      "\n"
     ]
    }
   ],
   "source": [
    "import tensorflow as tf\n",
    "\n",
    "matrix1 = tf.constant([[-1, 2.1],[1, -3]], name='matrix1', dtype=tf.float32)\n",
    "matrix2 = tf.constant([[15, -2],[-7, 6]], name='matrix2', dtype=tf.float32)\n",
    "\n",
    "result = tf.multiply(matrix1, matrix2)\n",
    "\n",
    "with tf.Session() as sess: \n",
    "    print(\"matrix element-wise multiplication: {}\\n\".format(sess.run(result)))\n"
   ]
  },
  {
   "cell_type": "markdown",
   "metadata": {},
   "source": [
    "# Write a program that use placeholder to feed (x, y) and rotate 45 degree coordinates "
   ]
  },
  {
   "cell_type": "code",
   "execution_count": 26,
   "metadata": {},
   "outputs": [
    {
     "name": "stdout",
     "output_type": "stream",
     "text": [
      "[[0.707]\n",
      " [0.707]]\n"
     ]
    }
   ],
   "source": [
    "import tensorflow as tf\n",
    "\n",
    "origin_coordinates = tf.placeholder(tf.float32, shape=(2,1), name=\"input\")\n",
    "transform_matrix = tf.constant([[0.707,-0.707],[0.707,0.707]])\n",
    "result_coordinates = tf.matmul(transform_matrix, origin_coordinates)\n",
    "#tf.matrix_transpose\n",
    "\n",
    "with tf.Session() as sess:\n",
    "    x = 1\n",
    "    y = 0\n",
    "    print(sess.run(result_coordinates, feed_dict={origin_coordinates:[[x],[y]]}))\n"
   ]
  },
  {
   "cell_type": "markdown",
   "metadata": {},
   "source": [
    "# Create two random vector and both have shape (2,1). Calculate manhattan distance between these two vector  \n",
    "## hint: use tf.abs"
   ]
  },
  {
   "cell_type": "code",
   "execution_count": 12,
   "metadata": {},
   "outputs": [
    {
     "name": "stdout",
     "output_type": "stream",
     "text": [
      "0.42361575\n"
     ]
    }
   ],
   "source": [
    "import tensorflow as tf\n",
    "\n",
    "vector1 = tf.random_normal([2,1], stddev=0.1, seed=1)\n",
    "vector2 = tf.random_normal([2,1], stddev=0.1, seed=3)\n",
    "\n",
    "diff = vector1 - vector2\n",
    "abs_diff = tf.abs(diff)\n",
    "reduce_sum = tf.reduce_sum(abs_diff)\n",
    "\n",
    "with tf.Session() as sess:\n",
    "\n",
    "    print(sess.run(reduce_sum))"
   ]
  },
  {
   "cell_type": "markdown",
   "metadata": {},
   "source": [
    "# minimize function f(x) = (x1-2)^4+(x1-2*x2)^2 (assum initial x1=0, x2=3)"
   ]
  },
  {
   "cell_type": "code",
   "execution_count": 3,
   "metadata": {},
   "outputs": [
    {
     "name": "stdout",
     "output_type": "stream",
     "text": [
      "when x1 = 1.836273431777954, x2 = 0.9172961711883545,  f have min value 0.0007214085198938847\n"
     ]
    }
   ],
   "source": [
    "import tensorflow as tf\n",
    "\n",
    "learning_rate = 0.01\n",
    "\n",
    "c1 = tf.constant(2.0)\n",
    "\n",
    "x1 = tf.Variable(tf.constant(0.0), name='x1')\n",
    "x2 = tf.Variable(tf.constant(3.0), name='x2')\n",
    "\n",
    "f = tf.pow(x1-c1,4) + tf.pow(x1-c1*x2,2) \n",
    "\n",
    "optimizer = tf.train.GradientDescentOptimizer(learning_rate).minimize(f)\n",
    "#optimizer = tf.train.AdamOptimizer(learning_rate).minimize(y)\n",
    "#optimizer = tf.train.RMSPropOptimizer(learning_rate).minimize(y)\n",
    "\n",
    "with tf.Session() as sess:\n",
    "    sess.run(tf.global_variables_initializer())\n",
    "    for _ in range(100):\n",
    "        optimizer_ = sess.run(optimizer)\n",
    "    x1_, x2_, f_ = sess.run([x1, x2, f])    \n",
    "    print('when x1 = {}, x2 = {},  f have min value {}'.format(x1_, x2_, f_))"
   ]
  },
  {
   "cell_type": "code",
   "execution_count": null,
   "metadata": {},
   "outputs": [],
   "source": []
  }
 ],
 "metadata": {
  "kernelspec": {
   "display_name": "Python 3",
   "language": "python",
   "name": "python3"
  },
  "language_info": {
   "codemirror_mode": {
    "name": "ipython",
    "version": 3
   },
   "file_extension": ".py",
   "mimetype": "text/x-python",
   "name": "python",
   "nbconvert_exporter": "python",
   "pygments_lexer": "ipython3",
   "version": "3.7.9"
  }
 },
 "nbformat": 4,
 "nbformat_minor": 2
}
