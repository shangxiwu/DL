{
 "cells": [
  {
   "cell_type": "markdown",
   "metadata": {},
   "source": [
    "# Calculate two matrix multiplication"
   ]
  },
  {
   "cell_type": "code",
   "execution_count": 2,
   "metadata": {},
   "outputs": [
    {
     "name": "stdout",
     "output_type": "stream",
     "text": [
      "matrix multiplication: [[-29.699999  14.599999]\n",
      " [ 36.       -20.      ]]\n",
      "\n"
     ]
    }
   ],
   "source": [
    "import tensorflow as tf\n",
    "\n",
    "# create two 2*2 constand matrix and do matrix multiplication\n",
    "#[[-1, 2.1]]\n",
    "#[[1,-3]]\n",
    "\n",
    "#[[15, -2]]\n",
    "#[[-7, 6]]\n"
   ]
  },
  {
   "cell_type": "code",
   "execution_count": null,
   "metadata": {},
   "outputs": [],
   "source": []
  },
  {
   "cell_type": "markdown",
   "metadata": {},
   "source": [
    "# Calculate two matrix element-wise multiplication"
   ]
  },
  {
   "cell_type": "code",
   "execution_count": 4,
   "metadata": {},
   "outputs": [
    {
     "name": "stdout",
     "output_type": "stream",
     "text": [
      "matrix element-wise multiplication: [[-15.   -4.2]\n",
      " [ -7.  -18. ]]\n",
      "\n"
     ]
    }
   ],
   "source": [
    "import tensorflow as tf\n",
    "\n",
    "# create two 2*2 constand matrix and do matrix multiplication\n",
    "#[[-1, 2.1]]\n",
    "#[[1,-3]]\n",
    "\n",
    "#[[15, -2]]\n",
    "#[[-7, 6]]\n"
   ]
  },
  {
   "cell_type": "markdown",
   "metadata": {},
   "source": [
    "# Write a program that use placeholder to feed (x, y) and rotate 45 degree coordinates "
   ]
  },
  {
   "cell_type": "code",
   "execution_count": 26,
   "metadata": {},
   "outputs": [
    {
     "name": "stdout",
     "output_type": "stream",
     "text": [
      "[[0.707]\n",
      " [0.707]]\n"
     ]
    }
   ],
   "source": [
    "import tensorflow as tf\n",
    "\n",
    "\n",
    "with tf.Session() as sess:\n",
    "    x = 1\n",
    "    y = 0\n",
    "    print(sess.run(result_coordinates, feed_dict={origin_coordinates:[[x],[y]]}))\n"
   ]
  },
  {
   "cell_type": "markdown",
   "metadata": {},
   "source": [
    "# Create two random vector and both have shape (2,1). Calculate manhattan distance between these two vector  \n",
    "## hint: use tf.abs"
   ]
  },
  {
   "cell_type": "code",
   "execution_count": 12,
   "metadata": {},
   "outputs": [
    {
     "name": "stdout",
     "output_type": "stream",
     "text": [
      "0.42361575\n"
     ]
    }
   ],
   "source": [
    "import tensorflow as tf\n",
    "\n",
    "vector1 = tf.random_normal([2,1], stddev=0.1, seed=1)\n",
    "vector2 = tf.random_normal([2,1], stddev=0.1, seed=3)\n",
    "\n"
   ]
  },
  {
   "cell_type": "markdown",
   "metadata": {},
   "source": [
    "# minimize function f(x) = (x1-2)^4+(x1-2*x2)^2 (assum initial x1=0, x2=3)"
   ]
  },
  {
   "cell_type": "code",
   "execution_count": 3,
   "metadata": {},
   "outputs": [
    {
     "name": "stdout",
     "output_type": "stream",
     "text": [
      "when x1 = 1.836273431777954, x2 = 0.9172961711883545,  f have min value 0.0007214085198938847\n"
     ]
    }
   ],
   "source": [
    "import tensorflow as tf\n",
    "\n",
    "learning_rate = 0.01\n",
    "  \n",
    "    \n",
    "    \n",
    "    print('when x1 = {}, x2 = {},  f have min value {}'.format(x1_, x2_, f_))"
   ]
  },
  {
   "cell_type": "code",
   "execution_count": null,
   "metadata": {},
   "outputs": [],
   "source": []
  }
 ],
 "metadata": {
  "kernelspec": {
   "display_name": "Python 3",
   "language": "python",
   "name": "python3"
  },
  "language_info": {
   "codemirror_mode": {
    "name": "ipython",
    "version": 3
   },
   "file_extension": ".py",
   "mimetype": "text/x-python",
   "name": "python",
   "nbconvert_exporter": "python",
   "pygments_lexer": "ipython3",
   "version": "3.7.9"
  }
 },
 "nbformat": 4,
 "nbformat_minor": 2
}
