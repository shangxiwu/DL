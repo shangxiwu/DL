{
 "cells": [
  {
   "cell_type": "markdown",
   "metadata": {},
   "source": [
    "## MNIST 使用\n",
    "MNIST is a computer vision dataset. It consists of black and white images from zero to nine. Each image is 28 * 28 and have been flatten to 784 dimension vector. Also, it includes labels for each image, telling us which digit it is.\n",
    "\n",
    "![Alt text](./images/dnn_implement/Selection_017.png)\n",
    "![Alt text](./images/dnn_implement/Selection_018.png)\n",
    "\n",
    "\n",
    "The MNIST data is split into three parts: \n",
    "1. 55000 training data (mnist.train) with a shape of [55000, 784]\n",
    "2. 10000 test data (mnist.test) with a shape of [10000, 784]\n",
    "3. 5000 validation data (mnist.validation) with a shape of [5000, 784]\n",
    "\n",
    "you can access:  \n",
    "training image as `mnist.train.images` (see below picture)  \n",
    "training label as `mnist.train.labels` (see below picture)  \n",
    "test image as `mnist.test.images`   \n",
    "test label as `mnist.test.labels`   \n",
    "\n",
    "Note that label is encoded as \"one-hot vectors\", which mean if the target image is 2, the label should be [0,0,1,0,0,0,0,0,0,0]\n",
    "\n",
    "\n",
    "![Alt text](./images/dnn_implement/Selection_021.png)\n",
    "![Alt text](./images/dnn_implement/Selection_020.png)"
   ]
  },
  {
   "cell_type": "code",
   "execution_count": 2,
   "metadata": {},
   "outputs": [
    {
     "name": "stdout",
     "output_type": "stream",
     "text": [
      "Extracting MNIST_data\\train-images-idx3-ubyte.gz\n",
      "Extracting MNIST_data\\train-labels-idx1-ubyte.gz\n",
      "Extracting MNIST_data\\t10k-images-idx3-ubyte.gz\n",
      "Extracting MNIST_data\\t10k-labels-idx1-ubyte.gz\n",
      "first 5 labels [[0. 0. 0. 0. 0. 0. 0. 0. 0. 1.]\n",
      " [0. 0. 0. 0. 1. 0. 0. 0. 0. 0.]\n",
      " [0. 0. 0. 0. 0. 0. 0. 1. 0. 0.]\n",
      " [0. 0. 0. 0. 0. 0. 0. 1. 0. 0.]\n",
      " [1. 0. 0. 0. 0. 0. 0. 0. 0. 0.]]:\n",
      "\n",
      "first 5 labels shape (5, 10):\n",
      "\n",
      "first 5 images [[0. 0. 0. ... 0. 0. 0.]\n",
      " [0. 0. 0. ... 0. 0. 0.]\n",
      " [0. 0. 0. ... 0. 0. 0.]\n",
      " [0. 0. 0. ... 0. 0. 0.]\n",
      " [0. 0. 0. ... 0. 0. 0.]]:\n",
      "\n",
      "first 5 labels shape (5, 10):\n",
      "\n"
     ]
    }
   ],
   "source": [
    "import tensorflow as tf\n",
    "from tensorflow.examples.tutorials.mnist import input_data\n",
    "tf.reset_default_graph()\n",
    "\n",
    "# Load mnist dataset\n",
    "mnist = input_data.read_data_sets('MNIST_data', one_hot=True)\n",
    "\n",
    "batch_xs, batch_ys = mnist.train.next_batch(5)\n",
    "\n",
    "print('first 5 labels {}:\\n'.format(batch_ys))\n",
    "print('first 5 labels shape {}:\\n'.format(batch_ys.shape))\n",
    "\n",
    "print('first 5 images {}:\\n'.format(batch_xs))\n",
    "print('first 5 labels shape {}:\\n'.format(batch_ys.shape))"
   ]
  },
  {
   "cell_type": "markdown",
   "metadata": {},
   "source": [
    "# 建立簡單模型"
   ]
  },
  {
   "cell_type": "code",
   "execution_count": 3,
   "metadata": {},
   "outputs": [
    {
     "name": "stdout",
     "output_type": "stream",
     "text": [
      "Extracting MNIST_data\\train-images-idx3-ubyte.gz\n",
      "Extracting MNIST_data\\train-labels-idx1-ubyte.gz\n",
      "Extracting MNIST_data\\t10k-images-idx3-ubyte.gz\n",
      "Extracting MNIST_data\\t10k-labels-idx1-ubyte.gz\n",
      "[[ 0.25604597 -0.28476608 -0.32401502 -0.43886286  0.7249049   0.15075946\n",
      "   0.6435641  -0.21278769  0.01203693  0.96231365]\n",
      " [-1.0707868   0.01976194  2.180747    0.54102     0.39125815  0.3170522\n",
      "   1.858971    0.62325233  0.2613932   0.18576173]\n",
      " [-1.0458776   0.4183346   2.3034105  -0.03479104  0.87050986  0.9595402\n",
      "   1.2704929   1.1040418   0.2566473   1.1926734 ]\n",
      " [-0.99262977 -0.30767712  1.8054378  -0.08796035  0.4823338   0.35275817\n",
      "   1.5685111   0.7443225   1.0351079  -1.1228378 ]\n",
      " [-0.42013162  0.8884799   0.16342586 -0.46650398  0.26658785  0.24527672\n",
      "  -0.36937374 -0.5650845   0.6816331  -0.23545922]]\n",
      "(5, 10)\n"
     ]
    }
   ],
   "source": [
    "import tensorflow as tf\n",
    "from tensorflow.examples.tutorials.mnist import input_data\n",
    "tf.reset_default_graph()\n",
    "\n",
    "# Load mnist dataset\n",
    "mnist = input_data.read_data_sets('MNIST_data', one_hot=True)\n",
    "\n",
    "# Define image input 784 = 28 * 28. Note that DNN input is a vector\n",
    "# [None, 784] mean that there are a batch of data and each of them is 784 dimension vector\n",
    "x = tf.placeholder(tf.float32, [None, 784])\n",
    "\n",
    "# Define label. There are totally 10 class (0-9)\n",
    "y = tf.placeholder(tf.float32, [None, 10])\n",
    "\n",
    "W = tf.Variable(tf.truncated_normal([784, 10], stddev=0.1))\n",
    "b = tf.Variable(tf.truncated_normal([10], stddev=0.1))\n",
    "y_predict = tf.matmul(x, W) + b\n",
    "\n",
    "\n",
    "with tf.Session() as sess:\n",
    "    sess.run(tf.global_variables_initializer())\n",
    "\n",
    "    batch_xs, batch_ys = mnist.train.next_batch(5)\n",
    "        \n",
    "    y_predict_ = sess.run(y_predict, feed_dict={x: batch_xs, y: batch_ys})\n",
    "    print(y_predict_)\n",
    "    print(y_predict_.shape)"
   ]
  },
  {
   "cell_type": "markdown",
   "metadata": {},
   "source": [
    "## 建立DNN神經網路模型 "
   ]
  },
  {
   "cell_type": "code",
   "execution_count": 11,
   "metadata": {},
   "outputs": [
    {
     "name": "stdout",
     "output_type": "stream",
     "text": [
      "Extracting MNIST_data\\train-images-idx3-ubyte.gz\n",
      "Extracting MNIST_data\\train-labels-idx1-ubyte.gz\n",
      "Extracting MNIST_data\\t10k-images-idx3-ubyte.gz\n",
      "Extracting MNIST_data\\t10k-labels-idx1-ubyte.gz\n",
      "[[0.00537947 0.07978871 0.         0.         0.03151332 0.27973643\n",
      "  0.04589504 0.         0.5698735  0.        ]\n",
      " [0.         0.         0.         0.         0.4519012  0.52777255\n",
      "  0.228033   0.         0.25697675 0.        ]\n",
      " [0.         0.         0.27386382 0.         0.09030299 0.27049312\n",
      "  0.00587577 0.         0.4377197  0.        ]\n",
      " [0.         0.25621703 0.0647132  0.         0.         0.5529596\n",
      "  0.26548126 0.14872824 0.28003764 0.        ]\n",
      " [0.         0.04047399 0.43868217 0.         0.         0.18563145\n",
      "  0.05248273 0.         0.40567395 0.02477902]]\n",
      "(5, 10)\n"
     ]
    }
   ],
   "source": [
    "import tensorflow as tf\n",
    "from tensorflow.examples.tutorials.mnist import input_data\n",
    "tf.reset_default_graph()\n",
    "\n",
    "mnist = input_data.read_data_sets('MNIST_data', one_hot=True)\n",
    "\n",
    "INPUT_NODE =784\n",
    "\n",
    "LAYER1_NODE = 128\n",
    "LAYER2_NODE = 64\n",
    "LAYER3_NODE = 10\n",
    "\n",
    "\n",
    "x = tf.placeholder(tf.float32, [None, 784])\n",
    "y = tf.placeholder(tf.float32, [None, 10])\n",
    "\n",
    "W1 = tf.Variable(tf.truncated_normal([INPUT_NODE, LAYER1_NODE], stddev=0.1))\n",
    "b1 = tf.Variable(tf.truncated_normal([LAYER1_NODE], stddev=0.1))\n",
    "W2 = tf.Variable(tf.truncated_normal([LAYER1_NODE, LAYER2_NODE], stddev=0.1))\n",
    "b2 = tf.Variable(tf.truncated_normal([LAYER2_NODE], stddev=0.1))\n",
    "W3 = tf.Variable(tf.truncated_normal([LAYER2_NODE, LAYER3_NODE], stddev=0.1))\n",
    "b3 = tf.Variable(tf.truncated_normal([LAYER3_NODE], stddev=0.1))\n",
    "\n",
    "layer_1 = tf.matmul(x, W1) + b1\n",
    "out1 = tf.nn.relu(layer_1)\n",
    "layer_2 = tf.matmul(out1, W2) + b2\n",
    "out2 = tf.nn.relu(layer_2)\n",
    "layer_3 = tf.matmul(out2, W3) + b3\n",
    "out3 = tf.nn.relu(layer_3)\n",
    "\n",
    "y_predict = out3\n",
    "\n",
    "\n",
    "with tf.Session() as sess:\n",
    "    sess.run(tf.global_variables_initializer())\n",
    "\n",
    "    batch_xs, batch_ys = mnist.train.next_batch(5)\n",
    "        \n",
    "    y_predict_ = sess.run(y_predict, feed_dict={x: batch_xs, y: batch_ys})\n",
    "    print(y_predict_)\n",
    "    print(y_predict_.shape)\n",
    "    "
   ]
  },
  {
   "cell_type": "code",
   "execution_count": null,
   "metadata": {
    "collapsed": true
   },
   "outputs": [],
   "source": []
  },
  {
   "cell_type": "code",
   "execution_count": null,
   "metadata": {
    "collapsed": true
   },
   "outputs": [],
   "source": []
  }
 ],
 "metadata": {
  "kernelspec": {
   "display_name": "Python 3",
   "language": "python",
   "name": "python3"
  },
  "language_info": {
   "codemirror_mode": {
    "name": "ipython",
    "version": 3
   },
   "file_extension": ".py",
   "mimetype": "text/x-python",
   "name": "python",
   "nbconvert_exporter": "python",
   "pygments_lexer": "ipython3",
   "version": "3.7.9"
  }
 },
 "nbformat": 4,
 "nbformat_minor": 2
}
